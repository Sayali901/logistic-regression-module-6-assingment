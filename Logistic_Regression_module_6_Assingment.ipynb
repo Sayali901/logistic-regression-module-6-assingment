{
  "nbformat": 4,
  "nbformat_minor": 0,
  "metadata": {
    "colab": {
      "provenance": []
    },
    "kernelspec": {
      "name": "python3",
      "display_name": "Python 3"
    },
    "language_info": {
      "name": "python"
    }
  },
  "cells": [
    {
      "cell_type": "markdown",
      "source": [
        "Logistic Regression module 6 Assingment\n",
        "\n",
        "1)What is Logistic Regression, and how does it differ from Linear Regression.\n",
        " -  Logistic regression and linear regression are both used in machine learning to model relationships between variables, but they differ in their primary goal and the type of output they predict. Linear regression is used for predicting continuous outcomes, while logistic regression is used for predicting categorical (binary) outcomes.\n",
        "\n",
        "2)What is the mathematical equation of Logistic Regression.\n",
        " - The mathematical equation for logistic regression, in its most basic form, is: p(x) = 1 / (1 + e^(-z)), where 'z' is a linear combination of the input features and their corresponding coefficients, expressed as z = β₀ + β₁x₁ + β₂x₂ + ... + βᵥxᵥ. Here, p(x) represents the probability of the event occurring, and e is the base of the natural logarithm (approximately 2.71828).  \n",
        "\n",
        "\n",
        "3)Why do we use the Sigmoid function in Logistic Regression.\n",
        " - The sigmoid function is crucial in logistic regression because it converts the linear combination of input features into a probability value between 0 and 1, which is essential for binary classification problems. This allows logistic regression to model the probability of a binary outcome and make predictions based on these probabilities.\n",
        "\n",
        "\n",
        " 4)What is the cost function of Logistic Regression.\n",
        "  - In logistic regression, the cost function, often called the log loss or cross-entropy loss, measures how well the model's predictions match the actual outcomes. It's calculated by averaging the loss over all training examples.\n",
        "\n",
        "\n",
        "5)What is Regularization in Logistic Regression? Why is it needed.\n",
        "  - Regularization in logistic regression is a technique used to prevent overfitting by adding a penalty term to the loss function. This penalty discourages overly complex models with large coefficient values, leading to better generalization performance on unseen data. It helps to find a balance between fitting the training data well and avoiding overly complex models that might not generalize well to new data.\n",
        "\n",
        "\n",
        "6)Explain the difference between Lasso, Ridge, and Elastic Net regression.\n",
        " - Ridge, Lasso, and Elastic Net are all regularization techniques used to improve linear regression models by preventing overfitting. Ridge regression adds a penalty based on the sum of squared coefficients (L2 penalty), while Lasso regression adds a penalty based on the sum of the absolute values of the coefficients (L1 penalty). Elastic Net combines both L1 and L2 penalties.   \n",
        "\n",
        "7)When should we use Elastic Net instead of Lasso or Ridge.\n",
        " - Elastic Net regression is a good choice when dealing with datasets that have multicollinearity (correlated features) and when feature selection is important, or when you want a balance between the two. It combines the penalties of both Lasso (L1) and Ridge (L2) regressions, offering a middle ground that can handle correlated features better than Lasso alone while still performing feature selection.  \n",
        "\n",
        "\n",
        "8)What is the impact of the regularization parameter (λ) in Logistic Regression.\n",
        " - In Logistic Regression, the regularization parameter, often denoted as λ (lambda), controls the strength of regularization applied to the model. A higher λ leads to stronger regularization, which means the model will be simpler (less complex) and more robust to noise, but it might also underfit the data if λ is too high. Conversely, a lower λ results in a more complex model that can fit the training data very closely, potentially leading to overfitting.\n",
        "\n",
        "\n",
        "9)What are the key assumptions of Logistic Regression.\n",
        " - Logistic Regression relies on several key assumptions to ensure accurate and reliable results. These include the assumption that the dependent variable is binary, meaning it has only two possible outcomes. Additionally, the independent variables should be linearly related to the log-odds of the dependent variable, and the observations should be independent of each other. Finally, there should be no significant multicollinearity among the independent variables.   \n",
        "\n",
        "\n",
        "\n",
        "10)What are some alternatives to Logistic Regression for classification tasks.\n",
        "  - Several alternative methods can be used for classification tasks instead of logistic regression. These include Support Vector Machines (SVM), Decision Trees, Random Forests, Neural Networks, and Naive Bayes classifiers. Each of these offers unique advantages and disadvantages, making them suitable for different types of datasets and problem scenarios.  \n",
        "\n",
        "\n",
        "11)What are Classification Evaluation Metrics.\n",
        " - Common classification evaluation metrics include accuracy, precision, recall, F1-score, AUC-ROC, and the confusion matrix. These metrics help assess how well a classification model distinguishes between different classes.   \n",
        "\n",
        "\n",
        "12)How does class imbalance affect Logistic Regression.\n",
        "  - Class imbalance in logistic regression occurs when one class has significantly more data points than the other(s), leading to biased model performance, where the model favors the majority class. This bias can result in the model misclassifying minority class examples and failing to generalize well to unseen data.  \n",
        "\n",
        "\n",
        "13)What is Hyperparameter Tuning in Logistic Regression.\n",
        " - Hyperparameter tuning in logistic regression is the process of finding the optimal values for the hyperparameters of a logistic regression model to improve its performance. Hyperparameters are settings that are not learned from the data during training, but instead are specified beforehand and influence the learning process. Examples in logistic regression include the regularization strength (C), the solver algorithm, and the maximum number of iterations (max_iter). According to search result 9, tuning these hyperparameters can significantly impact how well the model performs on a given task.\n",
        "\n",
        "\n",
        "14) What are different solvers in Logistic Regression? Which one should be used.\n",
        "  - In Logistic Regression, different solvers refer to the optimization algorithms used to find the best model parameters. The choice of solver depends on factors like the size and complexity of your dataset, the presence of regularization, and computational resources. Some common solvers and their characteristics include:\n",
        "- liblinear:\n",
        "This solver is suitable for small datasets or when you need fine control over regularization. It works well with L1 and L2 penalties and is particularly efficient for binary classification problems. However, it can be slow on large datasets.\n",
        "- lbfgs (Limited-memory Broyden–Fletcher–Goldfarb–Shanno):\n",
        "This solver is a good choice for medium-sized datasets and offers a balance between speed and accuracy. It is generally preferred for general-purpose logistic regression. However, its performance may degrade with very large datasets.\n",
        "- newton-cg (Newton's Method with Conjugate Gradients):\n",
        "Similar to lbfgs, this solver is efficient for medium-sized datasets. It is also suitable for cases where the number of samples is significantly larger than the number of features.\n",
        "- sag (Stochastic Average Gradient):\n",
        "This solver is designed for large datasets. It updates the parameters using a random subset of the data at each iteration, making it computationally efficient. SAG is particularly effective when combined with L1 or L2 regularization.\n",
        "- saga (Stochastic Average Gradient with Averaging):\n",
        "An extension of SAG, saga also handles large datasets efficiently. It incorporates a correction term to improve convergence, making it suitable for both binary and multinomial logistic regression.    \n",
        "- Which solver to use:\n",
        "For small datasets: liblinear, For medium datasets: lbfgs or newton-cg, and For large datasets: sag or saga.\n",
        "\n",
        "\n",
        "15)How is Logistic Regression extended for multiclass classification.\n",
        "  - Logistic Regression, originally designed for binary classification, can be extended to handle multiclass problems through two main approaches: One-vs-Rest (OvR) and Multinomial Logistic Regression (also known as Softmax Regression).\n",
        "1. One-vs-Rest (OvR) or One-vs-All (OvA):\n",
        "This method trains a separate binary logistic regression model for each class, treating that class as the positive class and all other classes as the negative class.\n",
        "For example, if you have 3 classes (A, B, C), you would train:\n",
        "One model to classify A vs. (B or C)\n",
        "One model to classify B vs. (A or C)\n",
        "One model to classify C vs. (A or B)\n",
        "During prediction, the instance is passed to all models, and the model with the highest predicted probability (or score) determines the class.\n",
        "2. Multinomial Logistic Regression (Softmax Regression):\n",
        "This approach directly extends the logistic regression model to handle multiple classes simultaneously.\n",
        "It uses the softmax function to calculate the probability distribution across all classes for a given input.\n",
        "The softmax function ensures that the probabilities for all classes sum up to 1, allowing for a probabilistic interpretation of the output.\n",
        "During training, the model learns to map input features to probability distributions over the classes using a cross-entropy loss function.\n",
        "This method is often preferred when the classes are mutually exclusive and have no inherent order.\n",
        "Some implementations of logistic regression in libraries like scikit-learn offer the option to specify the multiclass strategy, allowing users to choose between OvR and Multinomial Logistic Regression.\n",
        "\n",
        "\n",
        "16)What are the advantages and disadvantages of Logistic Regression.\n",
        " - Logistic regression, a statistical method for binary classification, has both advantages and disadvantages. Its key strengths include ease of implementation, interpretability, and efficiency in training. However, it's limited by its assumption of linearity, susceptibility to outliers, and inability to capture complex relationships in data.\n",
        "\n",
        "\n",
        "17)What are some use cases of Logistic Regression.\n",
        " - Logistic regression is used when the outcome variable is categorical, specifically when it has two or more discrete outcomes. It's a classification algorithm that estimates the probability of an instance belonging to a particular category.\n",
        "\n",
        "18)What is the difference between Softmax Regression and Logistic Regression.\n",
        "  - Softmax regression is a generalization of logistic regression used for multi-class classification problems, where the output can belong to more than two classes. Logistic regression, on the other hand, is specifically designed for binary classification problems with only two possible output classes.\n",
        "\n",
        "\n",
        "19)How do we choose between One-vs-Rest (OvR) and Softmax for multiclass classification.\n",
        "  - The choice between One-vs-Rest (OvR) and Softmax for multiclass classification depends on the nature of the classes and the desired properties of the model. Softmax excels when classes are mutually exclusive and when relationships between classes are important, as it models all classes simultaneously. OvR, on the other hand, is preferred when classes are relatively independent, allowing for parallel training and potentially faster processing, especially with large datasets or classes.\n",
        "\n",
        "\n",
        "20)How do we interpret coefficients in Logistic Regression?\n",
        "  - In logistic regression, coefficients represent the change in the log-odds of the outcome for a one-unit change in the predictor variable, holding all other variables constant. These coefficients are then often transformed into odds ratios (exp(coefficient)) for a more intuitive interpretation. An odds ratio greater than 1 indicates a positive association (increased odds) while an odds ratio less than 1 indicates a negative association (decreased odds).\n",
        "  "
      ],
      "metadata": {
        "id": "pGAlCVF_mA7m"
      }
    },
    {
      "cell_type": "code",
      "execution_count": 1,
      "metadata": {
        "colab": {
          "base_uri": "https://localhost:8080/"
        },
        "id": "-8x9bMuElvut",
        "outputId": "6063566b-1fac-4061-8e73-e228bfb1ce2d"
      },
      "outputs": [
        {
          "output_type": "stream",
          "name": "stdout",
          "text": [
            "Training set size: 455 samples\n",
            "Testing set size: 114 samples\n",
            "Model Accuracy: 0.9561\n"
          ]
        },
        {
          "output_type": "stream",
          "name": "stderr",
          "text": [
            "/usr/local/lib/python3.11/dist-packages/sklearn/linear_model/_logistic.py:465: ConvergenceWarning: lbfgs failed to converge (status=1):\n",
            "STOP: TOTAL NO. OF ITERATIONS REACHED LIMIT.\n",
            "\n",
            "Increase the number of iterations (max_iter) or scale the data as shown in:\n",
            "    https://scikit-learn.org/stable/modules/preprocessing.html\n",
            "Please also refer to the documentation for alternative solver options:\n",
            "    https://scikit-learn.org/stable/modules/linear_model.html#logistic-regression\n",
            "  n_iter_i = _check_optimize_result(\n"
          ]
        }
      ],
      "source": [
        "#Write a Python program that loads a dataset, splits it into training and testing sets, applies Logistic Regression, and prints the model accuracy\n",
        "import pandas as pd\n",
        "from sklearn.datasets import load_breast_cancer\n",
        "from sklearn.model_selection import train_test_split\n",
        "from sklearn.linear_model import LogisticRegression\n",
        "from sklearn.metrics import accuracy_score\n",
        "\n",
        "# 1. Load the dataset\n",
        "# You can replace this with loading your own dataset, e.g., using pd.read_csv('your_dataset.csv')\n",
        "data = load_breast_cancer()\n",
        "X = pd.DataFrame(data.data, columns=data.feature_names)\n",
        "y = pd.Series(data.target)\n",
        "\n",
        "# 2. Split the dataset into training and testing sets\n",
        "# test_size specifies the proportion of the dataset to include in the test split\n",
        "# random_state ensures reproducibility of the split\n",
        "X_train, X_test, y_train, y_test = train_test_split(X, y, test_size=0.2, random_state=42)\n",
        "\n",
        "print(f\"Training set size: {X_train.shape[0]} samples\")\n",
        "print(f\"Testing set size: {X_test.shape[0]} samples\")\n",
        "\n",
        "# 3. Apply Logistic Regression\n",
        "# Initialize the Logistic Regression model\n",
        "# max_iter is set to a higher value to ensure convergence for some datasets\n",
        "model = LogisticRegression(max_iter=1000)\n",
        "\n",
        "# Train the model on the training data\n",
        "model.fit(X_train, y_train)\n",
        "\n",
        "# 4. Make predictions on the test set\n",
        "y_pred = model.predict(X_test)\n",
        "\n",
        "# 5. Calculate and print the model accuracy\n",
        "accuracy = accuracy_score(y_test, y_pred)\n",
        "print(f\"Model Accuracy: {accuracy:.4f}\")"
      ]
    },
    {
      "cell_type": "code",
      "source": [
        "#Write a Python program to apply L1 regularization (Lasso) on a dataset using LogisticRegression(penalty='l1') and print the model accuracy\n",
        "import numpy as np\n",
        "from sklearn.datasets import make_classification\n",
        "from sklearn.model_selection import train_test_split\n",
        "from sklearn.linear_model import LogisticRegression\n",
        "from sklearn.metrics import accuracy_score\n",
        "\n",
        "# 1. Generate a synthetic dataset for classification\n",
        "# Using make_classification to create a binary classification dataset\n",
        "X, y = make_classification(n_samples=1000, n_features=20, n_informative=10, n_redundant=5, random_state=42)\n",
        "\n",
        "# 2. Split the dataset into training and testing sets\n",
        "X_train, X_test, y_train, y_test = train_test_split(X, y, test_size=0.3, random_state=42)\n",
        "\n",
        "# 3. Initialize and train a Logistic Regression model with L1 regularization (Lasso)\n",
        "# penalty='l1' specifies L1 regularization\n",
        "# solver='liblinear' is a good choice for L1 regularization on smaller datasets\n",
        "# C is the inverse of regularization strength; smaller values mean stronger regularization\n",
        "model_l1 = LogisticRegression(penalty='l1', solver='liblinear', C=0.1, random_state=42)\n",
        "model_l1.fit(X_train, y_train)\n",
        "\n",
        "# 4. Make predictions on the test set\n",
        "y_pred_l1 = model_l1.predict(X_test)\n",
        "\n",
        "# 5. Calculate and print the accuracy\n",
        "accuracy_l1 = accuracy_score(y_test, y_pred_l1)\n",
        "print(f\"Model Accuracy with L1 Regularization: {accuracy_l1:.4f}\")\n",
        "\n",
        "# Optional: Print the coefficients to see the effect of L1 regularization (sparsity)\n",
        "print(\"\\nCoefficients of the L1 Regularized Logistic Regression model:\")\n",
        "print(model_l1.coef_)\n",
        "print(f\"\\nNumber of non-zero coefficients: {np.sum(model_l1.coef_ != 0)}\")"
      ],
      "metadata": {
        "colab": {
          "base_uri": "https://localhost:8080/"
        },
        "id": "H7LUtkuXu11g",
        "outputId": "1afe4f96-c339-4c26-bfd6-994487ad5278"
      },
      "execution_count": 2,
      "outputs": [
        {
          "output_type": "stream",
          "name": "stdout",
          "text": [
            "Model Accuracy with L1 Regularization: 0.8400\n",
            "\n",
            "Coefficients of the L1 Regularized Logistic Regression model:\n",
            "[[ 0.          0.21367362 -0.27276024  0.         -0.10273212 -0.06546597\n",
            "   0.          0.17001604  0.          0.          0.          0.65365282\n",
            "   0.          0.         -0.72001665 -0.10820577 -0.20280585  0.28394469\n",
            "   0.09702986  0.        ]]\n",
            "\n",
            "Number of non-zero coefficients: 11\n"
          ]
        }
      ]
    },
    {
      "cell_type": "code",
      "source": [
        "#Write a Python program to train Logistic Regression with L2 regularization (Ridge) using LogisticRegression(penalty='l2'). Print model accuracy and coefficientsC\n",
        "import numpy as np\n",
        "from sklearn.linear_model import LogisticRegression\n",
        "from sklearn.model_selection import train_test_split\n",
        "from sklearn.metrics import accuracy_score\n",
        "\n",
        "# 1. Generate synthetic data for demonstration\n",
        "# In a real-world scenario, you would load your dataset here.\n",
        "np.random.seed(42)  # for reproducibility\n",
        "X = np.random.rand(100, 5) * 10  # 100 samples, 5 features\n",
        "# Create a binary target variable based on a linear combination of features\n",
        "y = (X[:, 0] * 0.5 + X[:, 1] * 0.2 - X[:, 2] * 0.8 + np.random.randn(100) > 5).astype(int)\n",
        "\n",
        "# 2. Split the data into training and testing sets\n",
        "X_train, X_test, y_train, y_test = train_test_split(X, y, test_size=0.3, random_state=42)\n",
        "\n",
        "# 3. Initialize and train the Logistic Regression model with L2 regularization\n",
        "# 'penalty='l2'' is the default, but explicitly stated for clarity.\n",
        "# 'solver' is specified for demonstration; 'liblinear' is a good general-purpose solver.\n",
        "# 'max_iter' is increased to ensure convergence for some datasets.\n",
        "model = LogisticRegression(penalty='l2', solver='liblinear', max_iter=200)\n",
        "model.fit(X_train, y_train)\n",
        "\n",
        "# 4. Make predictions on the test set\n",
        "y_pred = model.predict(X_test)\n",
        "\n",
        "# 5. Calculate and print the model accuracy\n",
        "accuracy = accuracy_score(y_test, y_pred)\n",
        "print(f\"Model Accuracy: {accuracy:.4f}\")\n",
        "\n",
        "# 6. Print the model coefficients\n",
        "# .coef_ stores the coefficients for each feature.\n",
        "# .intercept_ stores the intercept (bias term).\n",
        "print(\"\\nModel Coefficients:\")\n",
        "for i, coef in enumerate(model.coef_[0]):\n",
        "    print(f\"  Feature {i+1}: {coef:.4f}\")\n",
        "print(f\"  Intercept: {model.intercept_[0]:.4f}\")"
      ],
      "metadata": {
        "colab": {
          "base_uri": "https://localhost:8080/"
        },
        "id": "OoPO_mNTu2Hc",
        "outputId": "1dd907b2-48b9-4b05-8dca-a3b9a1817717"
      },
      "execution_count": 3,
      "outputs": [
        {
          "output_type": "stream",
          "name": "stdout",
          "text": [
            "Model Accuracy: 0.9667\n",
            "\n",
            "Model Coefficients:\n",
            "  Feature 1: 0.2773\n",
            "  Feature 2: -0.4085\n",
            "  Feature 3: -0.9252\n",
            "  Feature 4: 0.0531\n",
            "  Feature 5: -0.4267\n",
            "  Intercept: -0.4053\n"
          ]
        }
      ]
    },
    {
      "cell_type": "code",
      "source": [
        "#Write a Python program to train Logistic Regression with Elastic Net Regularization (penalty='elasticnet')\n",
        "from sklearn.linear_model import LogisticRegression\n",
        "from sklearn.model_selection import train_test_split\n",
        "from sklearn.preprocessing import StandardScaler\n",
        "from sklearn.datasets import make_classification\n",
        "from sklearn.metrics import accuracy_score\n",
        "\n",
        "# 1. Generate synthetic data for demonstration\n",
        "X, y = make_classification(n_samples=1000, n_features=20, n_informative=10, n_redundant=5, random_state=42)\n",
        "\n",
        "# 2. Split data into training and testing sets\n",
        "X_train, X_test, y_train, y_test = train_test_split(X, y, test_size=0.2, random_state=42)\n",
        "\n",
        "# 3. Standardize the features (important for regularization)\n",
        "scaler = StandardScaler()\n",
        "X_train_scaled = scaler.fit_transform(X_train)\n",
        "X_test_scaled = scaler.transform(X_test)\n",
        "\n",
        "# 4. Initialize and train the Logistic Regression model with Elastic Net\n",
        "#    - solver='saga' is required for elasticnet penalty\n",
        "#    - penalty='elasticnet' specifies Elastic Net regularization\n",
        "#    - l1_ratio controls the mix between L1 (Lasso) and L2 (Ridge) penalties\n",
        "#      (0 for pure L2, 1 for pure L1, values in between for Elastic Net)\n",
        "#    - C is the inverse of regularization strength; smaller C means stronger regularization\n",
        "model = LogisticRegression(\n",
        "    solver='saga',\n",
        "    penalty='elasticnet',\n",
        "    l1_ratio=0.5,  # Example: 50% L1, 50% L2\n",
        "    C=1.0,         # Example: inverse of regularization strength\n",
        "    max_iter=1000, # Increase if convergence warning appears\n",
        "    random_state=42\n",
        ")\n",
        "\n",
        "model.fit(X_train_scaled, y_train)\n",
        "\n",
        "# 5. Make predictions and evaluate the model\n",
        "y_pred = model.predict(X_test_scaled)\n",
        "accuracy = accuracy_score(y_test, y_pred)\n",
        "\n",
        "print(f\"Model Coefficients: {model.coef_}\")\n",
        "print(f\"Model Intercept: {model.intercept_}\")\n",
        "print(f\"Accuracy with Elastic Net Logistic Regression: {accuracy:.4f}\")"
      ],
      "metadata": {
        "colab": {
          "base_uri": "https://localhost:8080/"
        },
        "id": "7GbjOmrcw5BV",
        "outputId": "28126370-7f36-42d2-cb1d-a840516a990d"
      },
      "execution_count": 4,
      "outputs": [
        {
          "output_type": "stream",
          "name": "stdout",
          "text": [
            "Model Coefficients: [[-0.07346116  0.72808442 -0.62561174 -0.48328284  0.         -0.21947854\n",
            "   0.01574248  0.66907166  0.          0.          0.02814293  1.61829216\n",
            "   0.          0.         -1.42187371 -0.76675766 -0.27830895  0.80298851\n",
            "   0.17006121  0.08317615]]\n",
            "Model Intercept: [-0.13332929]\n",
            "Accuracy with Elastic Net Logistic Regression: 0.8000\n"
          ]
        }
      ]
    },
    {
      "cell_type": "code",
      "source": [
        "#Write a Python program to train a Logistic Regression model for multiclass classification using multi_class='ovr'\n",
        "from sklearn.datasets import load_iris\n",
        "from sklearn.model_selection import train_test_split\n",
        "from sklearn.linear_model import LogisticRegression\n",
        "from sklearn.metrics import accuracy_score, classification_report\n",
        "\n",
        "# 1. Load a sample dataset (e.g., Iris dataset)\n",
        "iris = load_iris()\n",
        "X = iris.data\n",
        "y = iris.target\n",
        "\n",
        "# 2. Split the data into training and testing sets\n",
        "X_train, X_test, y_train, y_test = train_test_split(X, y, test_size=0.3, random_state=42)\n",
        "\n",
        "# 3. Initialize the Logistic Regression model with multi_class='ovr'\n",
        "# 'lbfgs' is a common solver suitable for 'ovr' and 'multinomial'\n",
        "# 'max_iter' might need adjustment for convergence\n",
        "model = LogisticRegression(multi_class='ovr', solver='lbfgs', max_iter=1000, random_state=42)\n",
        "\n",
        "# 4. Train the model\n",
        "model.fit(X_train, y_train)\n",
        "\n",
        "# 5. Make predictions on the test set\n",
        "y_pred = model.predict(X_test)\n",
        "\n",
        "# 6. Evaluate the model's performance\n",
        "accuracy = accuracy_score(y_test, y_pred)\n",
        "report = classification_report(y_test, y_pred, target_names=iris.target_names)\n",
        "\n",
        "print(f\"Accuracy: {accuracy:.4f}\")\n",
        "print(\"\\nClassification Report:\")"
      ],
      "metadata": {
        "colab": {
          "base_uri": "https://localhost:8080/"
        },
        "id": "nT0Xrmujw5SA",
        "outputId": "a4734385-24f8-4e93-86b8-42a21a87976b"
      },
      "execution_count": 5,
      "outputs": [
        {
          "output_type": "stream",
          "name": "stdout",
          "text": [
            "Accuracy: 0.9556\n",
            "\n",
            "Classification Report:\n"
          ]
        },
        {
          "output_type": "stream",
          "name": "stderr",
          "text": [
            "/usr/local/lib/python3.11/dist-packages/sklearn/linear_model/_logistic.py:1256: FutureWarning: 'multi_class' was deprecated in version 1.5 and will be removed in 1.7. Use OneVsRestClassifier(LogisticRegression(..)) instead. Leave it to its default value to avoid this warning.\n",
            "  warnings.warn(\n"
          ]
        }
      ]
    },
    {
      "cell_type": "code",
      "source": [
        "#Write a Python program to apply GridSearchCV to tune the hyperparameters (C and penalty) of Logistic Regression. Print the best parameters and accuracy\n",
        "import numpy as np\n",
        "from sklearn.datasets import make_classification\n",
        "from sklearn.linear_model import LogisticRegression\n",
        "from sklearn.model_selection import GridSearchCV, train_test_split\n",
        "from sklearn.metrics import accuracy_score\n",
        "\n",
        "# 1. Generate sample data\n",
        "X, y = make_classification(n_samples=1000, n_features=20, n_informative=10,\n",
        "                           n_classes=2, random_state=42)\n",
        "\n",
        "# 2. Split data into training and testing sets\n",
        "X_train, X_test, y_train, y_test = train_test_split(X, y, test_size=0.2, random_state=42)\n",
        "\n",
        "# 3. Define the Logistic Regression model\n",
        "log_reg = LogisticRegression(solver='liblinear', max_iter=1000) # 'liblinear' supports both l1 and l2 penalties\n",
        "\n",
        "# 4. Define the hyperparameter grid\n",
        "param_grid = {\n",
        "    'C': np.logspace(-4, 4, 9),  # Values for C (inverse of regularization strength)\n",
        "    'penalty': ['l1', 'l2']      # Types of regularization\n",
        "}\n",
        "\n",
        "# 5. Initialize GridSearchCV\n",
        "# cv=5 indicates 5-fold cross-validation\n",
        "grid_search = GridSearchCV(estimator=log_reg, param_grid=param_grid, cv=5, scoring='accuracy', n_jobs=-1)\n",
        "\n",
        "# 6. Fit GridSearchCV to the training data\n",
        "grid_search.fit(X_train, y_train)\n",
        "\n",
        "# 7. Print the best parameters and best score (accuracy from cross-validation)\n",
        "print(f\"Best parameters found: {grid_search.best_params_}\")\n",
        "print(f\"Best cross-validation accuracy: {grid_search.best_score_:.4f}\")\n",
        "\n",
        "# 8. Evaluate the best model on the test set\n",
        "best_log_reg = grid_search.best_estimator_\n",
        "y_pred = best_log_reg.predict(X_test)\n",
        "test_accuracy = accuracy_score(y_test, y_pred)\n",
        "print(f\"Test set accuracy with best parameters: {test_accuracy:.4f}\")\n"
      ],
      "metadata": {
        "colab": {
          "base_uri": "https://localhost:8080/"
        },
        "id": "uYXP4X39w5We",
        "outputId": "a757ba1a-ba66-473f-db27-d8e21b235b4a"
      },
      "execution_count": 6,
      "outputs": [
        {
          "output_type": "stream",
          "name": "stdout",
          "text": [
            "Best parameters found: {'C': np.float64(0.01), 'penalty': 'l2'}\n",
            "Best cross-validation accuracy: 0.8588\n",
            "Test set accuracy with best parameters: 0.8100\n"
          ]
        }
      ]
    },
    {
      "cell_type": "code",
      "source": [
        "#Write a Python program to evaluate Logistic Regression using Stratified K-Fold Cross-Validation. Print the average accuracy\n",
        "import numpy as np\n",
        "from sklearn.datasets import load_iris\n",
        "from sklearn.linear_model import LogisticRegression\n",
        "from sklearn.model_selection import StratifiedKFold, cross_val_score\n",
        "\n",
        "# Load a sample dataset (e.g., Iris dataset)\n",
        "X, y = load_iris(return_X_y=True)\n",
        "\n",
        "# Initialize Logistic Regression model\n",
        "logistic_regression_model = LogisticRegression(solver='liblinear', random_state=42)\n",
        "\n",
        "# Define Stratified K-Fold Cross-Validation\n",
        "# n_splits: number of folds (e.g., 5, 10)\n",
        "# shuffle: whether to shuffle the data before splitting\n",
        "# random_state: for reproducibility\n",
        "skf = StratifiedKFold(n_splits=5, shuffle=True, random_state=42)\n",
        "\n",
        "# Perform cross-validation and get accuracy scores for each fold\n",
        "# scoring='accuracy' specifies the evaluation metric\n",
        "accuracy_scores = cross_val_score(logistic_regression_model, X, y, cv=skf, scoring='accuracy')\n",
        "\n",
        "# Print the accuracy scores for each fold\n",
        "print(f\"Individual fold accuracy scores: {accuracy_scores}\")\n",
        "\n",
        "# Calculate and print the average accuracy\n",
        "average_accuracy = np.mean(accuracy_scores)\n",
        "print(f\"Average accuracy across folds: {average_accuracy:.4f}\")"
      ],
      "metadata": {
        "colab": {
          "base_uri": "https://localhost:8080/"
        },
        "id": "72xqqS-tw5ng",
        "outputId": "f62da49c-6625-47ec-d029-fc57925d262a"
      },
      "execution_count": 7,
      "outputs": [
        {
          "output_type": "stream",
          "name": "stdout",
          "text": [
            "Individual fold accuracy scores: [0.96666667 1.         0.9        0.93333333 1.        ]\n",
            "Average accuracy across folds: 0.9600\n"
          ]
        }
      ]
    },
    {
      "cell_type": "code",
      "source": [
        "#Write a Python program to load a dataset from a CSV file, apply Logistic Regression, and evaluate its accuracy\n",
        "import pandas as pd\n",
        "from sklearn.model_selection import train_test_split\n",
        "from sklearn.linear_model import LogisticRegression\n",
        "from sklearn.metrics import accuracy_score, classification_report\n",
        "\n",
        "def perform_logistic_regression(filepath, target_column):\n",
        "    \"\"\"\n",
        "    Loads a dataset from a CSV, applies Logistic Regression, and evaluates accuracy.\n",
        "\n",
        "    Args:\n",
        "        filepath (str): The path to the CSV file.\n",
        "        target_column (str): The name of the target column for prediction.\n",
        "    \"\"\"\n",
        "    try:\n",
        "        # Load the dataset\n",
        "        df = pd.read_csv(filepath)\n",
        "        print(\"Dataset loaded successfully.\")\n",
        "        print(f\"Dataset shape: {df.shape}\")\n",
        "        print(\"\\nFirst 5 rows of the dataset:\")\n",
        "        print(df.head())\n",
        "\n",
        "        # Separate features (X) and target (y)\n",
        "        X = df.drop(columns=[target_column])\n",
        "        y = df[target_column]\n",
        "\n",
        "        # Handle categorical features if any (one-hot encoding)\n",
        "        # This example assumes numerical data or pre-encoded categorical data.\n",
        "        # If your dataset has categorical columns, uncomment and adapt the line below:\n",
        "        # X = pd.get_dummies(X, drop_first=True)\n",
        "\n",
        "        # Split data into training and testing sets\n",
        "        X_train, X_test, y_train, y_test = train_test_split(X, y, test_size=0.3, random_state=42)\n",
        "        print(f\"\\nTraining data shape: {X_train.shape}\")\n",
        "        print(f\"Testing data shape: {X_test.shape}\")\n",
        "\n",
        "        # Initialize and train the Logistic Regression model\n",
        "        model = LogisticRegression(random_state=42, solver='liblinear') # 'liblinear' is good for small datasets\n",
        "        model.fit(X_train, y_train)\n",
        "        print(\"\\nLogistic Regression model trained successfully.\")\n",
        "\n",
        "        # Make predictions on the test set\n",
        "        y_pred = model.predict(X_test)\n",
        "\n",
        "        # Evaluate the model\n",
        "        accuracy = accuracy_score(y_test, y_pred)\n",
        "        print(f\"\\nModel Accuracy: {accuracy:.4f}\")\n",
        "\n",
        "        print(\"\\nClassification Report:\")\n",
        "        print(classification_report(y_test, y_pred))\n",
        "\n",
        "    except FileNotFoundError:\n",
        "        print(f\"Error: The file '{filepath}' was not found.\")\n",
        "    except KeyError:\n",
        "        print(f\"Error: The target column '{target_column}' was not found in the dataset.\")\n",
        "    except Exception as e:\n",
        "        print(f\"An unexpected error occurred: {e}\")\n",
        "\n",
        "# Example usage:\n",
        "# Create a dummy CSV file for demonstration if you don't have one\n",
        "# You can replace 'your_dataset.csv' and 'target_variable' with your actual file and column names.\n",
        "try:\n",
        "    dummy_data = {\n",
        "        'feature1': [10, 20, 30, 40, 50, 60, 70, 80, 90, 100],\n",
        "        'feature2': [1, 2, 3, 4, 5, 6, 7, 8, 9, 10],\n",
        "        'target_variable': [0, 1, 0, 1, 0, 1, 0, 1, 0, 1]\n",
        "    }\n",
        "    dummy_df = pd.DataFrame(dummy_data)\n",
        "    dummy_df.to_csv('your_dataset.csv', index=False)\n",
        "    print(\"Dummy dataset 'your_dataset.csv' created for demonstration.\")\n",
        "except Exception as e:\n",
        "    print(f\"Could not create dummy dataset: {e}\")\n",
        "\n",
        "perform_logistic_regression('your_dataset.csv', 'target_variable')"
      ],
      "metadata": {
        "colab": {
          "base_uri": "https://localhost:8080/"
        },
        "id": "1YP6fGvew525",
        "outputId": "a1f5b544-4ba5-413c-d67e-8d25f20594c7"
      },
      "execution_count": 8,
      "outputs": [
        {
          "output_type": "stream",
          "name": "stdout",
          "text": [
            "Dummy dataset 'your_dataset.csv' created for demonstration.\n",
            "Dataset loaded successfully.\n",
            "Dataset shape: (10, 3)\n",
            "\n",
            "First 5 rows of the dataset:\n",
            "   feature1  feature2  target_variable\n",
            "0        10         1                0\n",
            "1        20         2                1\n",
            "2        30         3                0\n",
            "3        40         4                1\n",
            "4        50         5                0\n",
            "\n",
            "Training data shape: (7, 2)\n",
            "Testing data shape: (3, 2)\n",
            "\n",
            "Logistic Regression model trained successfully.\n",
            "\n",
            "Model Accuracy: 0.3333\n",
            "\n",
            "Classification Report:\n",
            "              precision    recall  f1-score   support\n",
            "\n",
            "           0       0.00      0.00      0.00         1\n",
            "           1       0.50      0.50      0.50         2\n",
            "\n",
            "    accuracy                           0.33         3\n",
            "   macro avg       0.25      0.25      0.25         3\n",
            "weighted avg       0.33      0.33      0.33         3\n",
            "\n"
          ]
        }
      ]
    },
    {
      "cell_type": "code",
      "source": [
        "#Write a Python program to apply RandomizedSearchCV for tuning hyperparameters (C, penalty, solver) in Logistic Regression. Print the best parameters and accuracy\n",
        "from sklearn.linear_model import LogisticRegression\n",
        "from sklearn.model_selection import RandomizedSearchCV, train_test_split\n",
        "from sklearn.datasets import make_classification\n",
        "from scipy.stats import uniform\n",
        "import numpy as np\n",
        "\n",
        "# Generate a synthetic classification dataset\n",
        "X, y = make_classification(n_samples=100, n_features=4, random_state=42)\n",
        "\n",
        "# Split the data into training and testing sets\n",
        "X_train, X_test, y_train, y_test = train_test_split(X, y, test_size=0.2, random_state=42)\n",
        "\n",
        "# Define the hyperparameter grid for RandomizedSearchCV\n",
        "param_distributions = {\n",
        "    'C': uniform(loc=0, scale=4),\n",
        "    'penalty': ['l1', 'l2', 'elasticnet', 'none'],\n",
        "    'solver': ['newton-cg', 'lbfgs', 'liblinear', 'sag', 'saga']\n",
        "}\n",
        "\n",
        "# Create a Logistic Regression model\n",
        "model = LogisticRegression(random_state=42, max_iter=1000, solver='liblinear')  # Add max_iter\n",
        "\n",
        "# Initialize RandomizedSearchCV with the model, hyperparameter grid, and cross-validation\n",
        "random_search = RandomizedSearchCV(\n",
        "    model,\n",
        "    param_distributions=param_distributions,\n",
        "    n_iter=10,  # Number of random combinations to try\n",
        "    scoring='accuracy',  # Evaluation metric\n",
        "    cv=5,  # Cross-validation folds\n",
        "    random_state=42,\n",
        "    n_jobs=-1 # Use all available cores\n",
        ")\n",
        "\n",
        "# Fit the RandomizedSearchCV to the training data\n",
        "random_search.fit(X_train, y_train)\n",
        "\n",
        "# Print the best parameters and accuracy\n",
        "print(\"Best parameters:\", random_search.best_params_)\n",
        "print(\"Best accuracy:\", random_search.best_score_)\n",
        "\n",
        "# Evaluate on the test set\n",
        "test_accuracy = random_search.score(X_test, y_test)\n",
        "print(\"Test set accuracy:\", test_accuracy)"
      ],
      "metadata": {
        "colab": {
          "base_uri": "https://localhost:8080/"
        },
        "id": "F0WvNIl4y5-i",
        "outputId": "8cdc6fe2-58ad-407d-b21c-a0b1aef37ec1"
      },
      "execution_count": 9,
      "outputs": [
        {
          "output_type": "stream",
          "name": "stdout",
          "text": [
            "Best parameters: {'C': np.float64(1.49816047538945), 'penalty': 'l1', 'solver': 'liblinear'}\n",
            "Best accuracy: 0.975\n",
            "Test set accuracy: 1.0\n"
          ]
        },
        {
          "output_type": "stream",
          "name": "stderr",
          "text": [
            "/usr/local/lib/python3.11/dist-packages/sklearn/model_selection/_validation.py:528: FitFailedWarning: \n",
            "35 fits failed out of a total of 50.\n",
            "The score on these train-test partitions for these parameters will be set to nan.\n",
            "If these failures are not expected, you can try to debug them by setting error_score='raise'.\n",
            "\n",
            "Below are more details about the failures:\n",
            "--------------------------------------------------------------------------------\n",
            "5 fits failed with the following error:\n",
            "Traceback (most recent call last):\n",
            "  File \"/usr/local/lib/python3.11/dist-packages/sklearn/model_selection/_validation.py\", line 866, in _fit_and_score\n",
            "    estimator.fit(X_train, y_train, **fit_params)\n",
            "  File \"/usr/local/lib/python3.11/dist-packages/sklearn/base.py\", line 1389, in wrapper\n",
            "    return fit_method(estimator, *args, **kwargs)\n",
            "           ^^^^^^^^^^^^^^^^^^^^^^^^^^^^^^^^^^^^^^\n",
            "  File \"/usr/local/lib/python3.11/dist-packages/sklearn/linear_model/_logistic.py\", line 1193, in fit\n",
            "    solver = _check_solver(self.solver, self.penalty, self.dual)\n",
            "             ^^^^^^^^^^^^^^^^^^^^^^^^^^^^^^^^^^^^^^^^^^^^^^^^^^^\n",
            "  File \"/usr/local/lib/python3.11/dist-packages/sklearn/linear_model/_logistic.py\", line 63, in _check_solver\n",
            "    raise ValueError(\n",
            "ValueError: Solver lbfgs supports only 'l2' or None penalties, got l1 penalty.\n",
            "\n",
            "--------------------------------------------------------------------------------\n",
            "5 fits failed with the following error:\n",
            "Traceback (most recent call last):\n",
            "  File \"/usr/local/lib/python3.11/dist-packages/sklearn/model_selection/_validation.py\", line 866, in _fit_and_score\n",
            "    estimator.fit(X_train, y_train, **fit_params)\n",
            "  File \"/usr/local/lib/python3.11/dist-packages/sklearn/base.py\", line 1389, in wrapper\n",
            "    return fit_method(estimator, *args, **kwargs)\n",
            "           ^^^^^^^^^^^^^^^^^^^^^^^^^^^^^^^^^^^^^^\n",
            "  File \"/usr/local/lib/python3.11/dist-packages/sklearn/linear_model/_logistic.py\", line 1193, in fit\n",
            "    solver = _check_solver(self.solver, self.penalty, self.dual)\n",
            "             ^^^^^^^^^^^^^^^^^^^^^^^^^^^^^^^^^^^^^^^^^^^^^^^^^^^\n",
            "  File \"/usr/local/lib/python3.11/dist-packages/sklearn/linear_model/_logistic.py\", line 71, in _check_solver\n",
            "    raise ValueError(\n",
            "ValueError: Only 'saga' solver supports elasticnet penalty, got solver=liblinear.\n",
            "\n",
            "--------------------------------------------------------------------------------\n",
            "20 fits failed with the following error:\n",
            "Traceback (most recent call last):\n",
            "  File \"/usr/local/lib/python3.11/dist-packages/sklearn/model_selection/_validation.py\", line 866, in _fit_and_score\n",
            "    estimator.fit(X_train, y_train, **fit_params)\n",
            "  File \"/usr/local/lib/python3.11/dist-packages/sklearn/base.py\", line 1382, in wrapper\n",
            "    estimator._validate_params()\n",
            "  File \"/usr/local/lib/python3.11/dist-packages/sklearn/base.py\", line 436, in _validate_params\n",
            "    validate_parameter_constraints(\n",
            "  File \"/usr/local/lib/python3.11/dist-packages/sklearn/utils/_param_validation.py\", line 98, in validate_parameter_constraints\n",
            "    raise InvalidParameterError(\n",
            "sklearn.utils._param_validation.InvalidParameterError: The 'penalty' parameter of LogisticRegression must be a str among {'l2', 'l1', 'elasticnet'} or None. Got 'none' instead.\n",
            "\n",
            "--------------------------------------------------------------------------------\n",
            "5 fits failed with the following error:\n",
            "Traceback (most recent call last):\n",
            "  File \"/usr/local/lib/python3.11/dist-packages/sklearn/model_selection/_validation.py\", line 866, in _fit_and_score\n",
            "    estimator.fit(X_train, y_train, **fit_params)\n",
            "  File \"/usr/local/lib/python3.11/dist-packages/sklearn/base.py\", line 1389, in wrapper\n",
            "    return fit_method(estimator, *args, **kwargs)\n",
            "           ^^^^^^^^^^^^^^^^^^^^^^^^^^^^^^^^^^^^^^\n",
            "  File \"/usr/local/lib/python3.11/dist-packages/sklearn/linear_model/_logistic.py\", line 1193, in fit\n",
            "    solver = _check_solver(self.solver, self.penalty, self.dual)\n",
            "             ^^^^^^^^^^^^^^^^^^^^^^^^^^^^^^^^^^^^^^^^^^^^^^^^^^^\n",
            "  File \"/usr/local/lib/python3.11/dist-packages/sklearn/linear_model/_logistic.py\", line 63, in _check_solver\n",
            "    raise ValueError(\n",
            "ValueError: Solver lbfgs supports only 'l2' or None penalties, got elasticnet penalty.\n",
            "\n",
            "  warnings.warn(some_fits_failed_message, FitFailedWarning)\n",
            "/usr/local/lib/python3.11/dist-packages/sklearn/model_selection/_search.py:1108: UserWarning: One or more of the test scores are non-finite: [0.975     nan    nan    nan 0.9625 0.975     nan    nan    nan    nan]\n",
            "  warnings.warn(\n"
          ]
        }
      ]
    },
    {
      "cell_type": "code",
      "source": [
        "#Write a Python program to implement One-vs-One (OvO) Multiclass Logistic Regression and print accuracy\n"
      ],
      "metadata": {
        "id": "RdW2ijzIy6Sj"
      },
      "execution_count": null,
      "outputs": []
    },
    {
      "cell_type": "code",
      "source": [
        "#Write a Python program to train a Logistic Regression model and evaluate its performance using Precision, Recall, and F1-Score\n",
        "import numpy as np\n",
        "from sklearn.datasets import make_classification\n",
        "from sklearn.model_selection import train_test_split\n",
        "from sklearn.linear_model import LogisticRegression\n",
        "from sklearn.metrics import precision_score, recall_score, f1_score, classification_report\n",
        "\n",
        "# 1. Generate a synthetic dataset\n",
        "# This creates a binary classification dataset with 1000 samples, 20 features,\n",
        "# and 2 informative features.\n",
        "X, y = make_classification(n_samples=1000, n_features=20, n_informative=2,\n",
        "                           n_redundant=10, n_repeated=8, random_state=42)\n",
        "\n",
        "# 2. Split the data into training and testing sets\n",
        "# 80% of the data is used for training, and 20% for testing.\n",
        "X_train, X_test, y_train, y_test = train_test_split(X, y, test_size=0.2, random_state=42)\n",
        "\n",
        "# 3. Train the Logistic Regression model\n",
        "# Initialize the Logistic Regression model.\n",
        "model = LogisticRegression(random_state=42, solver='liblinear') # 'liblinear' is a good choice for small datasets\n",
        "model.fit(X_train, y_train)\n",
        "\n",
        "# 4. Make predictions on the test set\n",
        "y_pred = model.predict(X_test)\n",
        "\n",
        "# 5. Evaluate the model's performance\n",
        "# Calculate Precision, Recall, and F1-Score\n",
        "precision = precision_score(y_test, y_pred)\n",
        "recall = recall_score(y_test, y_pred)\n",
        "f1 = f1_score(y_test, y_pred)\n",
        "\n",
        "print(f\"Precision: {precision:.4f}\")\n",
        "print(f\"Recall: {recall:.4f}\")\n",
        "print(f\"F1-Score: {f1:.4f}\")\n",
        "\n",
        "# You can also get a comprehensive classification report\n",
        "print(\"\\nClassification Report:\")\n",
        "print(classification_report(y_test, y_pred))"
      ],
      "metadata": {
        "colab": {
          "base_uri": "https://localhost:8080/"
        },
        "id": "QL8uFolAy6jv",
        "outputId": "0354a4e6-e718-4348-a646-73bbb0b1f86a"
      },
      "execution_count": 10,
      "outputs": [
        {
          "output_type": "stream",
          "name": "stdout",
          "text": [
            "Precision: 0.8020\n",
            "Recall: 0.8265\n",
            "F1-Score: 0.8141\n",
            "\n",
            "Classification Report:\n",
            "              precision    recall  f1-score   support\n",
            "\n",
            "           0       0.83      0.80      0.82       102\n",
            "           1       0.80      0.83      0.81        98\n",
            "\n",
            "    accuracy                           0.81       200\n",
            "   macro avg       0.82      0.82      0.81       200\n",
            "weighted avg       0.82      0.81      0.82       200\n",
            "\n"
          ]
        }
      ]
    },
    {
      "cell_type": "code",
      "source": [
        "#Write a Python program to train a Logistic Regression model on imbalanced data and apply class weights to improve model performance\n",
        "import pandas as pd\n",
        "from sklearn.model_selection import train_test_split\n",
        "from sklearn.linear_model import LogisticRegression\n",
        "from sklearn.metrics import classification_report, confusion_matrix, roc_auc_score\n",
        "import matplotlib.pyplot as plt\n",
        "import seaborn as sns\n",
        "from sklearn.utils import class_weight\n",
        "import numpy as np\n",
        "\n",
        "# 1. Generate Imbalanced Data (replace with your actual data loading)\n",
        "# Example:\n",
        "np.random.seed(42)\n",
        "n_samples = 1000\n",
        "X = np.random.rand(n_samples, 2)\n",
        "y = np.random.choice([0, 1], size=n_samples, p=[0.9, 0.1])  # 90% negative, 10% positive\n",
        "df = pd.DataFrame(X, columns=['feature1', 'feature2'])\n",
        "df['target'] = y\n",
        "\n",
        "# 2. Split Data\n",
        "X = df[['feature1', 'feature2']]\n",
        "y = df['target']\n",
        "X_train, X_test, y_train, y_test = train_test_split(X, y, test_size=0.2, random_state=42, stratify=y)\n",
        "\n",
        "\n",
        "# 3. Calculate Class Weights\n",
        "class_weights = class_weight.compute_class_weight(class_weight='balanced', classes=np.unique(y_train), y=y_train)\n",
        "class_weight_dict = {i : class_weights[i] for i in range(len(class_weights))}\n",
        "print(\"Calculated Class Weights:\", class_weight_dict)\n",
        "\n",
        "\n",
        "# 4. Train Logistic Regression with Class Weights\n",
        "model = LogisticRegression(class_weight=class_weight_dict, solver='liblinear') # Added solver for reproducibility\n",
        "model.fit(X_train, y_train)\n",
        "\n",
        "\n",
        "# 5. Make Predictions\n",
        "y_pred = model.predict(X_test)\n",
        "y_pred_proba = model.predict_proba(X_test)[:, 1]  # For ROC AUC\n",
        "\n",
        "# 6. Evaluate Model\n",
        "print(\"Classification Report:\\n\", classification_report(y_test, y_pred))\n",
        "print(\"Confusion Matrix:\\n\", confusion_matrix(y_test, y_pred))\n",
        "print(\"ROC AUC Score:\", roc_auc_score(y_test, y_pred_proba))\n",
        "\n",
        "# 7. Visualize Results (Optional)\n",
        "# Confusion Matrix\n",
        "conf_matrix = confusion_matrix(y_test, y_pred)\n",
        "plt.figure(figsize=(8, 6))\n",
        "sns.heatmap(conf_matrix, annot=True, fmt='d', cmap='Blues')\n",
        "plt.title('Confusion Matrix')\n",
        "plt.xlabel('Predicted Label')\n",
        "plt.ylabel('True Label')\n",
        "plt.show()\n",
        "\n",
        "# ROC Curve\n",
        "from sklearn.metrics import roc_curve\n",
        "fpr, tpr, thresholds = roc_curve(y_test, y_pred_proba)\n",
        "plt.figure(figsize=(8, 6))\n",
        "plt.plot(fpr, tpr, color='darkorange', lw=2, label=f'ROC curve (area = {roc_auc_score(y_test, y_pred_proba):.2f})')\n",
        "plt.plot([0, 1], [0, 1], color='navy', lw=2, linestyle='--')\n",
        "plt.xlim([0.0, 1.0])\n",
        "plt.ylim([0.0, 1.05])\n",
        "plt.xlabel('False Positive Rate')\n",
        "plt.ylabel('True Positive Rate')\n",
        "plt.title('Receiver Operating Characteristic (ROC) Curve')\n",
        "plt.legend(loc=\"lower right\")\n",
        "plt.show()"
      ],
      "metadata": {
        "colab": {
          "base_uri": "https://localhost:8080/",
          "height": 1000
        },
        "id": "MJc7Vmp6y63F",
        "outputId": "f09808de-6445-48d4-cf0d-a8828105d850"
      },
      "execution_count": 11,
      "outputs": [
        {
          "output_type": "stream",
          "name": "stdout",
          "text": [
            "Calculated Class Weights: {0: np.float64(0.5563282336578581), 1: np.float64(4.938271604938271)}\n",
            "Classification Report:\n",
            "               precision    recall  f1-score   support\n",
            "\n",
            "           0       0.95      0.59      0.73       180\n",
            "           1       0.16      0.70      0.26        20\n",
            "\n",
            "    accuracy                           0.60       200\n",
            "   macro avg       0.55      0.64      0.49       200\n",
            "weighted avg       0.87      0.60      0.68       200\n",
            "\n",
            "Confusion Matrix:\n",
            " [[106  74]\n",
            " [  6  14]]\n",
            "ROC AUC Score: 0.6388888888888888\n"
          ]
        },
        {
          "output_type": "display_data",
          "data": {
            "text/plain": [
              "<Figure size 800x600 with 2 Axes>"
            ],
            "image/png": "[encoded data removed]"
          },
          "metadata": {}
        },
        {
          "output_type": "display_data",
          "data": {
            "text/plain": [
              "<Figure size 800x600 with 1 Axes>"
            ],
            "image/png": "[encoded data removed]"
          },
          "metadata": {}
        }
      ]
    },
    {
      "cell_type": "code",
      "source": [
        "#Write a Python program to apply feature scaling (Standardization) before training a Logistic Regression model. Evaluate its accuracy and compare results with and without scaling\n",
        "import numpy as np\n",
        "from sklearn.datasets import make_classification\n",
        "from sklearn.model_selection import train_test_split\n",
        "from sklearn.preprocessing import StandardScaler\n",
        "from sklearn.linear_model import LogisticRegression\n",
        "from sklearn.metrics import accuracy_score\n",
        "\n",
        "# 1. Generate a synthetic dataset\n",
        "X, y = make_classification(n_samples=1000, n_features=10, n_informative=5, n_redundant=0, random_state=42)\n",
        "\n",
        "# 2. Split the dataset into training and testing sets\n",
        "X_train, X_test, y_train, y_test = train_test_split(X, y, test_size=0.3, random_state=42)\n",
        "\n",
        "# --- Model without Feature Scaling ---\n",
        "print(\"--- Model without Feature Scaling ---\")\n",
        "# Initialize and train the Logistic Regression model\n",
        "model_no_scaling = LogisticRegression(random_state=42, solver='liblinear')\n",
        "model_no_scaling.fit(X_train, y_train)\n",
        "\n",
        "# Make predictions and evaluate accuracy\n",
        "y_pred_no_scaling = model_no_scaling.predict(X_test)\n",
        "accuracy_no_scaling = accuracy_score(y_test, y_pred_no_scaling)\n",
        "print(f\"Accuracy without scaling: {accuracy_no_scaling:.4f}\")\n",
        "\n",
        "# --- Model with Feature Scaling (Standardization) ---\n",
        "print(\"\\n--- Model with Feature Scaling (Standardization) ---\")\n",
        "# Initialize the StandardScaler\n",
        "scaler = StandardScaler()\n",
        "\n",
        "# Fit the scaler on the training data and transform both training and testing data\n",
        "X_train_scaled = scaler.fit_transform(X_train)\n",
        "X_test_scaled = scaler.transform(X_test)\n",
        "\n",
        "# Initialize and train the Logistic Regression model on scaled data\n",
        "model_scaled = LogisticRegression(random_state=42, solver='liblinear')\n",
        "model_scaled.fit(X_train_scaled, y_train)\n",
        "\n",
        "# Make predictions and evaluate accuracy\n",
        "y_pred_scaled = model_scaled.predict(X_test_scaled)\n",
        "accuracy_scaled = accuracy_score(y_test, y_pred_scaled)\n",
        "print(f\"Accuracy with scaling: {accuracy_scaled:.4f}\")\n",
        "\n",
        "# 3. Compare Results\n",
        "print(\"\\n--- Comparison ---\")\n",
        "if accuracy_scaled > accuracy_no_scaling:\n",
        "    print(\"Feature scaling improved the model's accuracy.\")\n",
        "elif accuracy_scaled < accuracy_no_scaling:\n",
        "    print(\"Feature scaling slightly decreased the model's accuracy (this can happen in some cases).\")\n",
        "else:\n",
        "    print(\"Feature scaling had no significant impact on the model's accuracy.\")"
      ],
      "metadata": {
        "colab": {
          "base_uri": "https://localhost:8080/"
        },
        "id": "CTGeFvu51E-p",
        "outputId": "695f2b3f-c847-4037-aa7f-4b54279721d9"
      },
      "execution_count": 12,
      "outputs": [
        {
          "output_type": "stream",
          "name": "stdout",
          "text": [
            "--- Model without Feature Scaling ---\n",
            "Accuracy without scaling: 0.7700\n",
            "\n",
            "--- Model with Feature Scaling (Standardization) ---\n",
            "Accuracy with scaling: 0.7700\n",
            "\n",
            "--- Comparison ---\n",
            "Feature scaling had no significant impact on the model's accuracy.\n"
          ]
        }
      ]
    },
    {
      "cell_type": "code",
      "source": [
        "#Write a Python program to train Logistic Regression and evaluate its performance using ROC-AUC score\n",
        "import numpy as np\n",
        "from sklearn.model_selection import train_test_split\n",
        "from sklearn.linear_model import LogisticRegression\n",
        "from sklearn.metrics import roc_auc_score, roc_curve\n",
        "import matplotlib.pyplot as plt\n",
        "\n",
        "# 1. Generate synthetic data for demonstration\n",
        "# In a real-world scenario, you would load your own dataset here.\n",
        "np.random.seed(42) # for reproducibility\n",
        "X = np.random.rand(100, 5) # 100 samples, 5 features\n",
        "y = (X[:, 0] + X[:, 1] > 1).astype(int) # Simple binary target based on first two features\n",
        "\n",
        "# 2. Split the data into training and testing sets\n",
        "X_train, X_test, y_train, y_test = train_test_split(X, y, test_size=0.3, random_state=42)\n",
        "\n",
        "# 3. Train the Logistic Regression model\n",
        "model = LogisticRegression(max_iter=1000) # Increase max_iter for convergence if needed\n",
        "model.fit(X_train, y_train)\n",
        "\n",
        "# 4. Predict probabilities for the positive class on the test set\n",
        "# roc_auc_score requires probabilities, not just class predictions\n",
        "y_pred_proba = model.predict_proba(X_test)[:, 1]\n",
        "\n",
        "# 5. Calculate the ROC-AUC score\n",
        "roc_auc = roc_auc_score(y_test, y_pred_proba)\n",
        "print(f\"ROC-AUC Score: {roc_auc:.4f}\")\n",
        "\n",
        "# 6. Plot the ROC curve\n",
        "fpr, tpr, thresholds = roc_curve(y_test, y_pred_proba)\n",
        "\n",
        "plt.figure(figsize=(8, 6))\n",
        "plt.plot(fpr, tpr, color='blue', lw=2, label=f'ROC curve (AUC = {roc_auc:.2f})')\n",
        "plt.plot([0, 1], [0, 1], color='red', linestyle='--', label='Random classifier')\n",
        "plt.xlabel('False Positive Rate (FPR)')\n",
        "plt.ylabel('True Positive Rate (TPR)')\n",
        "plt.title('Receiver Operating Characteristic (ROC) Curve')\n",
        "plt.legend(loc=\"lower right\")\n",
        "plt.grid(True)"
      ],
      "metadata": {
        "colab": {
          "base_uri": "https://localhost:8080/",
          "height": 581
        },
        "id": "qgfag_ar1FJt",
        "outputId": "2c7b0904-5d26-43da-94fb-fbd0c2628894"
      },
      "execution_count": 13,
      "outputs": [
        {
          "output_type": "stream",
          "name": "stdout",
          "text": [
            "ROC-AUC Score: 0.9500\n"
          ]
        },
        {
          "output_type": "display_data",
          "data": {
            "text/plain": [
              "<Figure size 800x600 with 1 Axes>"
            ],
            "image/png": "[encoded data removed]"
          },
          "metadata": {}
        }
      ]
    },
    {
      "cell_type": "code",
      "source": [
        "#Write a Python program to train Logistic Regression using a custom learning rate (C=0.5) and evaluate accuracy\n",
        "from sklearn.datasets import load_breast_cancer\n",
        "from sklearn.model_selection import train_test_split\n",
        "from sklearn.linear_model import LogisticRegression\n",
        "from sklearn.metrics import accuracy_score\n",
        "\n",
        "# 1. Load a dataset (e.g., Breast Cancer dataset)\n",
        "X, y = load_breast_cancer(return_X_y=True)\n",
        "\n",
        "# 2. Split data into training and testing sets\n",
        "X_train, X_test, y_train, y_test = train_test_split(X, y, test_size=0.2, random_state=42)\n",
        "\n",
        "# 3. Initialize Logistic Regression with a custom C value\n",
        "# C is the inverse of regularization strength; smaller values specify stronger regularization.\n",
        "# Here, C=0.5 means a moderate regularization strength.\n",
        "logistic_model = LogisticRegression(C=0.5, random_state=42, max_iter=1000)\n",
        "\n",
        "# 4. Train the model\n",
        "logistic_model.fit(X_train, y_train)\n",
        "\n",
        "# 5. Make predictions on the test set\n",
        "y_pred = logistic_model.predict(X_test)\n",
        "\n",
        "# 6. Evaluate the model's accuracy\n",
        "accuracy = accuracy_score(y_test, y_pred)\n",
        "\n",
        "print(f\"Logistic Regression Model Accuracy (C=0.5): {accuracy:.4f}\")"
      ],
      "metadata": {
        "colab": {
          "base_uri": "https://localhost:8080/"
        },
        "id": "6mTqNe9T3rCs",
        "outputId": "ebd28b66-bdcb-4b1b-a068-a31525961654"
      },
      "execution_count": 14,
      "outputs": [
        {
          "output_type": "stream",
          "name": "stdout",
          "text": [
            "Logistic Regression Model Accuracy (C=0.5): 0.9649\n"
          ]
        },
        {
          "output_type": "stream",
          "name": "stderr",
          "text": [
            "/usr/local/lib/python3.11/dist-packages/sklearn/linear_model/_logistic.py:465: ConvergenceWarning: lbfgs failed to converge (status=1):\n",
            "STOP: TOTAL NO. OF ITERATIONS REACHED LIMIT.\n",
            "\n",
            "Increase the number of iterations (max_iter) or scale the data as shown in:\n",
            "    https://scikit-learn.org/stable/modules/preprocessing.html\n",
            "Please also refer to the documentation for alternative solver options:\n",
            "    https://scikit-learn.org/stable/modules/linear_model.html#logistic-regression\n",
            "  n_iter_i = _check_optimize_result(\n"
          ]
        }
      ]
    },
    {
      "cell_type": "code",
      "source": [
        "#Write a Python program to train Logistic Regression and identify important features based on model coefficients\n",
        "import pandas as pd\n",
        "import numpy as np\n",
        "from sklearn.model_selection import train_test_split\n",
        "from sklearn.linear_model import LogisticRegression\n",
        "from sklearn.preprocessing import StandardScaler\n",
        "\n",
        "# 1. Generate or Load Sample Data\n",
        "# For demonstration, creating a synthetic dataset\n",
        "np.random.seed(42)\n",
        "num_samples = 1000\n",
        "data = {\n",
        "    'feature1': np.random.rand(num_samples) * 10,\n",
        "    'feature2': np.random.rand(num_samples) * 5,\n",
        "    'feature3': np.random.rand(num_samples) * 20,\n",
        "    'feature4': np.random.rand(num_samples) * 7,\n",
        "}\n",
        "df = pd.DataFrame(data)\n",
        "\n",
        "# Create a binary target variable based on a linear combination of features\n",
        "# and some noise to simulate a real-world scenario\n",
        "df['target'] = (0.5 * df['feature1'] + 1.2 * df['feature2'] - 0.3 * df['feature3'] + 0.8 * df['feature4'] + np.random.normal(0, 1, num_samples) > 7).astype(int)\n",
        "\n",
        "# 2. Define Features (X) and Target (y)\n",
        "X = df[['feature1', 'feature2', 'feature3', 'feature4']]\n",
        "y = df['target']\n",
        "\n",
        "# 3. Split Data into Training and Testing Sets\n",
        "X_train, X_test, y_train, y_test = train_test_split(X, y, test_size=0.2, random_state=42)\n",
        "\n",
        "# 4. Standardize Features (Important for interpreting coefficients)\n",
        "scaler = StandardScaler()\n",
        "X_train_scaled = scaler.fit_transform(X_train)\n",
        "X_test_scaled = scaler.transform(X_test)\n",
        "\n",
        "# 5. Train the Logistic Regression Model\n",
        "model = LogisticRegression(random_state=42)\n",
        "model.fit(X_train_scaled, y_train)\n",
        "\n",
        "# 6. Identify Important Features based on Coefficients\n",
        "# The coefficients are associated with the scaled features\n",
        "coefficients = model.coef_[0]\n",
        "feature_names = X.columns\n",
        "\n",
        "# Create a DataFrame to display feature importance\n",
        "feature_importance = pd.DataFrame({\n",
        "    'Feature': feature_names,\n",
        "    'Coefficient': coefficients\n",
        "})\n",
        "\n",
        "# Sort by absolute coefficient value to see the most impactful features\n",
        "feature_importance['Absolute_Coefficient'] = np.abs(feature_importance['Coefficient'])\n",
        "feature_importance = feature_importance.sort_values(by='Absolute_Coefficient', ascending=False)\n",
        "\n",
        "print(\"Logistic Regression Model Coefficients (indicating feature importance):\")\n",
        "print(feature_importance)\n",
        "\n",
        "# Optional: Interpret coefficients in terms of odds ratios (for unscaled data or specific interpretation)\n",
        "# Note: Odds ratios are exp(coefficient) and represent the change in odds for a one-unit increase in the feature.\n",
        "# This interpretation is more straightforward with unscaled features, but can still be applied to scaled features\n",
        "# to understand relative impact.\n",
        "feature_importance['Odds_Ratio'] = np.exp(feature_importance['Coefficient'])\n",
        "print(\"\\nFeature Importance with Odds Ratios:\")\n",
        "print(feature_importance)"
      ],
      "metadata": {
        "colab": {
          "base_uri": "https://localhost:8080/"
        },
        "id": "aLJ3RE4o3rVf",
        "outputId": "2d329e78-8a01-4cc0-b324-8661cd097635"
      },
      "execution_count": 15,
      "outputs": [
        {
          "output_type": "stream",
          "name": "stdout",
          "text": [
            "Logistic Regression Model Coefficients (indicating feature importance):\n",
            "    Feature  Coefficient  Absolute_Coefficient\n",
            "2  feature3    -2.522199              2.522199\n",
            "1  feature2     2.475450              2.475450\n",
            "3  feature4     2.422274              2.422274\n",
            "0  feature1     2.179068              2.179068\n",
            "\n",
            "Feature Importance with Odds Ratios:\n",
            "    Feature  Coefficient  Absolute_Coefficient  Odds_Ratio\n",
            "2  feature3    -2.522199              2.522199    0.080283\n",
            "1  feature2     2.475450              2.475450   11.887058\n",
            "3  feature4     2.422274              2.422274   11.271465\n",
            "0  feature1     2.179068              2.179068    8.838064\n"
          ]
        }
      ]
    },
    {
      "cell_type": "code",
      "source": [
        "#Write a Python program to train Logistic Regression and evaluate its performance using Cohen’s Kappa Score\n",
        "import numpy as np\n",
        "from sklearn.linear_model import LogisticRegression\n",
        "from sklearn.model_selection import train_test_split\n",
        "from sklearn.metrics import cohen_kappa_score, accuracy_score\n",
        "from sklearn.datasets import make_classification\n",
        "\n",
        "# 1. Generate synthetic data for demonstration\n",
        "# In a real-world scenario, you would load your dataset here.\n",
        "X, y = make_classification(n_samples=1000, n_features=10, n_informative=5,\n",
        "                           n_redundant=0, n_clusters_per_class=1, random_state=42)\n",
        "\n",
        "# 2. Split the data into training and testing sets\n",
        "X_train, X_test, y_train, y_test = train_test_split(X, y, test_size=0.3, random_state=42)\n",
        "\n",
        "# 3. Initialize and train the Logistic Regression model\n",
        "model = LogisticRegression(random_state=42, solver='liblinear') # 'liblinear' is a good choice for small datasets\n",
        "model.fit(X_train, y_train)\n",
        "\n",
        "# 4. Make predictions on the test set\n",
        "y_pred = model.predict(X_test)\n",
        "\n",
        "# 5. Evaluate the model performance\n",
        "# Calculate Accuracy Score\n",
        "accuracy = accuracy_score(y_test, y_pred)\n",
        "print(f\"Accuracy: {accuracy:.4f}\")\n",
        "\n",
        "# Calculate Cohen's Kappa Score\n",
        "kappa = cohen_kappa_score(y_test, y_pred)\n",
        "print(f\"Cohen's Kappa Score: {kappa:.4f}\")"
      ],
      "metadata": {
        "colab": {
          "base_uri": "https://localhost:8080/"
        },
        "id": "70PWIQyN1FUP",
        "outputId": "b2f31a55-83e9-46a0-9ab0-fe7d682ea4be"
      },
      "execution_count": 16,
      "outputs": [
        {
          "output_type": "stream",
          "name": "stdout",
          "text": [
            "Accuracy: 0.9767\n",
            "Cohen's Kappa Score: 0.9533\n"
          ]
        }
      ]
    },
    {
      "cell_type": "code",
      "source": [
        "#Write a Python program to train Logistic Regression and visualize the Precision-Recall Curve for binary classification\n",
        "import matplotlib.pyplot as plt\n",
        "from sklearn.datasets import make_classification\n",
        "from sklearn.model_selection import train_test_split\n",
        "from sklearn.linear_model import LogisticRegression\n",
        "from sklearn.metrics import precision_recall_curve, PrecisionRecallDisplay\n",
        "\n",
        "# 1. Generate a synthetic dataset for binary classification\n",
        "X, y = make_classification(\n",
        "    n_samples=1000,\n",
        "    n_features=20,\n",
        "    n_classes=2,\n",
        "    random_state=42,\n",
        "    weights=[0.9, 0.1] # Introduce some class imbalance\n",
        ")\n",
        "\n",
        "# 2. Split the dataset into training and testing sets\n",
        "X_train, X_test, y_train, y_test = train_test_split(\n",
        "    X, y, test_size=0.2, random_state=42\n",
        ")\n",
        "\n",
        "# 3. Train a Logistic Regression model\n",
        "model = LogisticRegression(solver='liblinear', random_state=42)\n",
        "model.fit(X_train, y_train)\n",
        "\n",
        "# 4. Predict probabilities on the test set\n",
        "# We need probabilities of the positive class (class 1)\n",
        "y_scores = model.predict_proba(X_test)[:, 1]\n",
        "\n",
        "# 5. Calculate Precision and Recall values for various thresholds\n",
        "precision, recall, _ = precision_recall_curve(y_test, y_scores)\n",
        "\n",
        "# 6. Plot the Precision-Recall Curve\n",
        "plt.figure(figsize=(8, 6))\n",
        "display = PrecisionRecallDisplay(precision=precision, recall=recall)\n",
        "display.plot()\n",
        "plt.title('Precision-Recall Curve for Logistic Regression')\n",
        "plt.xlabel('Recall')\n",
        "plt.ylabel('Precision')\n",
        "plt.grid(True)\n",
        "plt.show()\n",
        "\n",
        "# You can also plot directly from the estimator (alternative to steps 5 and 6)\n",
        "# plt.figure(figsize=(8, 6))\n",
        "# display_from_estimator = PrecisionRecallDisplay.from_estimator(\n",
        "#     model, X_test, y_test, name=\"Logistic Regression\"\n",
        "# )\n",
        "# display_from_estimator.plot()\n",
        "# plt.title('Precision-Recall Curve (from estimator)')\n",
        "# plt.xlabel('Recall')\n",
        "# plt.ylabel('Precision')\n",
        "# plt.grid(True)\n",
        "# plt.show()"
      ],
      "metadata": {
        "colab": {
          "base_uri": "https://localhost:8080/",
          "height": 489
        },
        "id": "AI5Y9cCX42zq",
        "outputId": "a9eb23ef-e180-45df-c4b5-32c7e2e8e64a"
      },
      "execution_count": 17,
      "outputs": [
        {
          "output_type": "display_data",
          "data": {
            "text/plain": [
              "<Figure size 800x600 with 0 Axes>"
            ]
          },
          "metadata": {}
        },
        {
          "output_type": "display_data",
          "data": {
            "text/plain": [
              "<Figure size 640x480 with 1 Axes>"
            ],
            "image/png": "[encoded data removed]"
          },
          "metadata": {}
        }
      ]
    },
    {
      "cell_type": "code",
      "source": [
        "#Write a Python program to train Logistic Regression with different solvers (liblinear, saga, lbfgs) and compare their accuracy\n",
        "from sklearn.datasets import load_iris\n",
        "from sklearn.model_selection import train_test_split\n",
        "from sklearn.linear_model import LogisticRegression\n",
        "from sklearn.metrics import accuracy_score\n",
        "\n",
        "# Load a sample dataset (Iris dataset)\n",
        "iris = load_iris()\n",
        "X, y = iris.data, iris.target\n",
        "\n",
        "# Split the data into training and testing sets\n",
        "X_train, X_test, y_train, y_test = train_test_split(X, y, test_size=0.3, random_state=42)\n",
        "\n",
        "# Define the solvers to compare\n",
        "solvers = ['liblinear', 'saga', 'lbfgs']\n",
        "\n",
        "# Train and evaluate Logistic Regression with each solver\n",
        "print(\"Comparing Logistic Regression Solvers:\")\n",
        "for solver in solvers:\n",
        "    try:\n",
        "        # For 'saga' with multiclass, 'elasticnet' penalty requires l1_ratio\n",
        "        if solver == 'saga':\n",
        "            model = LogisticRegression(solver=solver, multi_class='multinomial', max_iter=1000, random_state=42)\n",
        "        elif solver == 'lbfgs':\n",
        "            model = LogisticRegression(solver=solver, multi_class='multinomial', max_iter=1000, random_state=42)\n",
        "        else: # liblinear\n",
        "            model = LogisticRegression(solver=solver, max_iter=1000, random_state=42)\n",
        "\n",
        "        model.fit(X_train, y_train)\n",
        "        y_pred = model.predict(X_test)\n",
        "        accuracy = accuracy_score(y_test, y_pred)\n",
        "        print(f\"Solver: {solver}, Accuracy: {accuracy:.4f}\")\n",
        "    except Exception as e:\n",
        "        print(f\"Error with solver {solver}: {e}\")"
      ],
      "metadata": {
        "colab": {
          "base_uri": "https://localhost:8080/"
        },
        "id": "hieb5pmU43DT",
        "outputId": "305ce3bb-ad2b-428e-e3b1-8dadfb2917be"
      },
      "execution_count": 18,
      "outputs": [
        {
          "output_type": "stream",
          "name": "stdout",
          "text": [
            "Comparing Logistic Regression Solvers:\n",
            "Solver: liblinear, Accuracy: 0.9778\n",
            "Solver: saga, Accuracy: 1.0000\n",
            "Solver: lbfgs, Accuracy: 1.0000\n"
          ]
        },
        {
          "output_type": "stream",
          "name": "stderr",
          "text": [
            "/usr/local/lib/python3.11/dist-packages/sklearn/linear_model/_logistic.py:1247: FutureWarning: 'multi_class' was deprecated in version 1.5 and will be removed in 1.7. From then on, it will always use 'multinomial'. Leave it to its default value to avoid this warning.\n",
            "  warnings.warn(\n",
            "/usr/local/lib/python3.11/dist-packages/sklearn/linear_model/_sag.py:348: ConvergenceWarning: The max_iter was reached which means the coef_ did not converge\n",
            "  warnings.warn(\n",
            "/usr/local/lib/python3.11/dist-packages/sklearn/linear_model/_logistic.py:1247: FutureWarning: 'multi_class' was deprecated in version 1.5 and will be removed in 1.7. From then on, it will always use 'multinomial'. Leave it to its default value to avoid this warning.\n",
            "  warnings.warn(\n"
          ]
        }
      ]
    },
    {
      "cell_type": "code",
      "source": [
        "#Write a Python program to train Logistic Regression and evaluate its performance using Matthews Correlation Coefficient (MCC)\n",
        "import numpy as np\n",
        "from sklearn.model_selection import train_test_split\n",
        "from sklearn.linear_model import LogisticRegression\n",
        "from sklearn.metrics import matthews_corrcoef\n",
        "from sklearn.datasets import make_classification # To generate a synthetic dataset\n",
        "\n",
        "# 1. Generate a synthetic dataset for demonstration\n",
        "X, y = make_classification(n_samples=1000, n_features=10, n_classes=2, random_state=42)\n",
        "\n",
        "# 2. Split the dataset into training and testing sets\n",
        "X_train, X_test, y_train, y_test = train_test_split(X, y, test_size=0.3, random_state=42)\n",
        "\n",
        "# 3. Train a Logistic Regression model\n",
        "model = LogisticRegression(random_state=42, solver='liblinear') # 'liblinear' is a good choice for small datasets\n",
        "model.fit(X_train, y_train)\n",
        "\n",
        "# 4. Make predictions on the test set\n",
        "y_pred = model.predict(X_test)\n",
        "\n",
        "# 5. Evaluate the model using Matthews Correlation Coefficient (MCC)\n",
        "mcc = matthews_corrcoef(y_test, y_pred)\n",
        "\n",
        "print(f\"Matthews Correlation Coefficient (MCC): {mcc:.4f}\")\n",
        "\n",
        "# Optional: Print other common classification metrics\n",
        "from sklearn.metrics import accuracy_score, precision_score, recall_score, f1_score\n",
        "\n",
        "accuracy = accuracy_score(y_test, y_pred)\n",
        "precision = precision_score(y_test, y_pred)\n",
        "recall = recall_score(y_test, y_pred)\n",
        "f1 = f1_score(y_test, y_pred)\n",
        "\n",
        "print(f\"Accuracy: {accuracy:.4f}\")\n",
        "print(f\"Precision: {precision:.4f}\")\n",
        "print(f\"Recall: {recall:.4f}\")\n",
        "print(f\"F1-Score: {f1:.4f}\")"
      ],
      "metadata": {
        "colab": {
          "base_uri": "https://localhost:8080/"
        },
        "id": "HtpeMgEJ5huD",
        "outputId": "9052634a-7516-45b2-fc8e-73616aa62928"
      },
      "execution_count": 19,
      "outputs": [
        {
          "output_type": "stream",
          "name": "stdout",
          "text": [
            "Matthews Correlation Coefficient (MCC): 0.6950\n",
            "Accuracy: 0.8467\n",
            "Precision: 0.8889\n",
            "Recall: 0.8242\n",
            "F1-Score: 0.8553\n"
          ]
        }
      ]
    },
    {
      "cell_type": "code",
      "source": [
        "#Write a Python program to train Logistic Regression on both raw and standardized data. Compare their accuracy to see the impact of feature scaling\n",
        "from sklearn.linear_model import LogisticRegression\n",
        "from sklearn.model_selection import train_test_split\n",
        "from sklearn.preprocessing import StandardScaler\n",
        "from sklearn.datasets import make_classification\n",
        "from sklearn.metrics import accuracy_score\n",
        "\n",
        "# 1. Generate synthetic data\n",
        "X, y = make_classification(n_samples=100, n_features=4, random_state=42)\n",
        "X_train, X_test, y_train, y_test = train_test_split(X, y, test_size=0.2, random_state=42)\n",
        "\n",
        "# 2. Train Logistic Regression on raw data\n",
        "model_raw = LogisticRegression(random_state=42)\n",
        "model_raw.fit(X_train, y_train)\n",
        "y_pred_raw = model_raw.predict(X_test)\n",
        "accuracy_raw = accuracy_score(y_test, y_pred_raw)\n",
        "print(f\"Accuracy on raw data: {accuracy_raw:.4f}\")\n",
        "\n",
        "# 3. Standardize the data\n",
        "scaler = StandardScaler()\n",
        "X_train_scaled = scaler.fit_transform(X_train)\n",
        "X_test_scaled = scaler.transform(X_test)\n",
        "\n",
        "# 4. Train Logistic Regression on standardized data\n",
        "model_scaled = LogisticRegression(random_state=42)\n",
        "model_scaled.fit(X_train_scaled, y_train)\n",
        "y_pred_scaled = model_scaled.predict(X_test_scaled)\n",
        "accuracy_scaled = accuracy_score(y_test, y_pred_scaled)\n",
        "print(f\"Accuracy on scaled data: {accuracy_scaled:.4f}\")\n",
        "\n",
        "# 5. Compare accuracies\n",
        "print(\"\\nImpact of feature scaling:\")\n",
        "if accuracy_scaled > accuracy_raw:\n",
        "    print(\"Feature scaling improved accuracy.\")\n",
        "elif accuracy_scaled < accuracy_raw:\n",
        "    print(\"Feature scaling decreased accuracy.\")\n",
        "else:\n",
        "    print(\"Feature scaling had no effect on accuracy.\")"
      ],
      "metadata": {
        "colab": {
          "base_uri": "https://localhost:8080/"
        },
        "id": "ihgU8TJf43QK",
        "outputId": "3f0c8809-de25-4b18-e263-cec8a204320d"
      },
      "execution_count": 20,
      "outputs": [
        {
          "output_type": "stream",
          "name": "stdout",
          "text": [
            "Accuracy on raw data: 1.0000\n",
            "Accuracy on scaled data: 1.0000\n",
            "\n",
            "Impact of feature scaling:\n",
            "Feature scaling had no effect on accuracy.\n"
          ]
        }
      ]
    },
    {
      "cell_type": "code",
      "source": [
        "# Write a Python program to train Logistic Regression and find the optimal C (regularization strength) using cross-validation\n",
        "from sklearn.datasets import load_breast_cancer\n",
        "from sklearn.model_selection import train_test_split, GridSearchCV\n",
        "from sklearn.linear_model import LogisticRegression\n",
        "from sklearn.preprocessing import StandardScaler\n",
        "from sklearn.metrics import accuracy_score\n",
        "\n",
        "# Load a sample dataset (Breast Cancer dataset)\n",
        "data = load_breast_cancer()\n",
        "X = data.data\n",
        "y = data.target\n",
        "\n",
        "# Split the data into training and testing sets\n",
        "X_train, X_test, y_train, y_test = train_test_split(X, y, test_size=0.2, random_state=42)\n",
        "\n",
        "# Standardize the features (important for Logistic Regression with regularization)\n",
        "scaler = StandardScaler()\n",
        "X_train_scaled = scaler.fit_transform(X_train)\n",
        "X_test_scaled = scaler.transform(X_test)\n",
        "\n",
        "# Define the parameter grid for C (regularization strength)\n",
        "# C is the inverse of regularization strength; smaller C means stronger regularization.\n",
        "param_grid = {'C': [0.001, 0.01, 0.1, 1, 10, 100, 1000]}\n",
        "\n",
        "# Initialize Logistic Regression model\n",
        "logistic_regression = LogisticRegression(solver='liblinear', max_iter=1000) # 'liblinear' is good for small datasets and L1/L2 regularization\n",
        "\n",
        "# Perform GridSearchCV to find the optimal C using cross-validation\n",
        "# cv=5 indicates 5-fold cross-validation\n",
        "grid_search = GridSearchCV(logistic_regression, param_grid, cv=5, scoring='accuracy')\n",
        "grid_search.fit(X_train_scaled, y_train)\n",
        "\n",
        "# Get the best C value and the corresponding best score\n",
        "optimal_c = grid_search.best_params_['C']\n",
        "best_score = grid_search.best_score_\n",
        "\n",
        "print(f\"Optimal C value: {optimal_c}\")\n",
        "print(f\"Best cross-validation accuracy: {best_score:.4f}\")\n",
        "\n",
        "# Train the final model with the optimal C\n",
        "final_model = LogisticRegression(C=optimal_c, solver='liblinear', max_iter=1000)\n",
        "final_model.fit(X_train_scaled, y_train)\n",
        "\n",
        "# Evaluate the final model on the test set\n",
        "y_pred = final_model.predict(X_test_scaled)\n",
        "test_accuracy = accuracy_score(y_test, y_pred)\n",
        "print(f\"Test set accuracy with optimal C: {test_accuracy:.4f}\")"
      ],
      "metadata": {
        "colab": {
          "base_uri": "https://localhost:8080/"
        },
        "id": "iOVILHfm43f1",
        "outputId": "e0d610e1-1272-4ecd-9555-73507ff2ee43"
      },
      "execution_count": 21,
      "outputs": [
        {
          "output_type": "stream",
          "name": "stdout",
          "text": [
            "Optimal C value: 0.1\n",
            "Best cross-validation accuracy: 0.9780\n",
            "Test set accuracy with optimal C: 0.9912\n"
          ]
        }
      ]
    },
    {
      "cell_type": "code",
      "source": [
        "#Write a Python program to train Logistic Regression, save the trained model using joblib, and load it again to make prediction\n",
        "import joblib\n",
        "from sklearn.datasets import load_iris\n",
        "from sklearn.model_selection import train_test_split\n",
        "from sklearn.linear_model import LogisticRegression\n",
        "from sklearn.metrics import accuracy_score\n",
        "\n",
        "# 1. Load and prepare the data\n",
        "iris = load_iris()\n",
        "X, y = iris.data, iris.target\n",
        "\n",
        "# Split the data into training and testing sets\n",
        "X_train, X_test, y_train, y_test = train_test_split(X, y, test_size=0.2, random_state=42)\n",
        "\n",
        "# 2. Train the Logistic Regression model\n",
        "model = LogisticRegression(max_iter=200) # Increased max_iter for convergence\n",
        "model.fit(X_train, y_train)\n",
        "\n",
        "# 3. Save the trained model using joblib\n",
        "model_filename = 'logistic_regression_model.joblib'\n",
        "joblib.dump(model, model_filename)\n",
        "print(f\"Model saved to {model_filename}\")\n",
        "\n",
        "# 4. Load the saved model\n",
        "loaded_model = joblib.load(model_filename)\n",
        "print(f\"Model loaded from {model_filename}\")\n",
        "\n",
        "# 5. Make predictions using the loaded model\n",
        "y_pred = loaded_model.predict(X_test)\n",
        "\n",
        "# Evaluate the loaded model's performance\n",
        "accuracy = accuracy_score(y_test, y_pred)\n",
        "print(f\"Accuracy of the loaded model: {accuracy:.4f}\")\n",
        "\n",
        "# Example prediction on a new data point\n",
        "new_data_point = [[5.1, 3.5, 1.4, 0.2]] # Example from Iris dataset\n",
        "prediction = loaded_model.predict(new_data_point)\n",
        "print(f\"Prediction for new data point {new_data_point}: {iris.target_names[prediction[0]]}\")"
      ],
      "metadata": {
        "colab": {
          "base_uri": "https://localhost:8080/"
        },
        "id": "DlBf_204w6El",
        "outputId": "45090de2-a40c-45df-ddb5-3e4022d44d2e"
      },
      "execution_count": 22,
      "outputs": [
        {
          "output_type": "stream",
          "name": "stdout",
          "text": [
            "Model saved to logistic_regression_model.joblib\n",
            "Model loaded from logistic_regression_model.joblib\n",
            "Accuracy of the loaded model: 1.0000\n",
            "Prediction for new data point [[5.1, 3.5, 1.4, 0.2]]: setosa\n"
          ]
        }
      ]
    },
    {
      "cell_type": "code",
      "source": [],
      "metadata": {
        "id": "c0oXOulKu2NX"
      },
      "execution_count": null,
      "outputs": []
    }
  ]
}